{
 "cells": [
  {
   "cell_type": "code",
   "execution_count": 1,
   "id": "0ecadb3f",
   "metadata": {},
   "outputs": [],
   "source": [
    "import nltk.classify.util"
   ]
  },
  {
   "cell_type": "code",
   "execution_count": 17,
   "id": "724d515f",
   "metadata": {},
   "outputs": [],
   "source": [
    "from nltk.classify import NaiveBayesClassifier\n",
    "from nltk.corpus import movie_reviews"
   ]
  },
  {
   "cell_type": "code",
   "execution_count": 3,
   "id": "dffe27ef",
   "metadata": {},
   "outputs": [],
   "source": [
    "import nltk"
   ]
  },
  {
   "cell_type": "code",
   "execution_count": 4,
   "id": "9147547f",
   "metadata": {},
   "outputs": [
    {
     "name": "stderr",
     "output_type": "stream",
     "text": [
      "[nltk_data] Downloading package movie_reviews to\n",
      "[nltk_data]     C:\\Users\\Jiya\\AppData\\Roaming\\nltk_data...\n",
      "[nltk_data]   Unzipping corpora\\movie_reviews.zip.\n"
     ]
    },
    {
     "data": {
      "text/plain": [
       "True"
      ]
     },
     "execution_count": 4,
     "metadata": {},
     "output_type": "execute_result"
    }
   ],
   "source": [
    "nltk.download('movie_reviews')"
   ]
  },
  {
   "cell_type": "code",
   "execution_count": 6,
   "id": "b62a0603",
   "metadata": {},
   "outputs": [],
   "source": [
    "def extractfeatures(word):\n",
    "    return dict([(i,True) for i in word])"
   ]
  },
  {
   "cell_type": "code",
   "execution_count": 24,
   "id": "f2f0d42a",
   "metadata": {},
   "outputs": [
    {
     "name": "stdout",
     "output_type": "stream",
     "text": [
      "length of training feature 1600\n",
      "length of test feature 400\n",
      "accuracy 0.9825\n",
      "Prediction\n",
      "review This is an amazing movie\n",
      "predicted sentiment/n positive\n",
      "\n",
      "review This is a dull movie,not recommended\n",
      "predicted sentiment/n negative\n",
      "\n",
      "review Great movie must watch\n",
      "predicted sentiment/n positive\n",
      "\n",
      "review So pathetic one\n",
      "predicted sentiment/n negative\n",
      "\n"
     ]
    }
   ],
   "source": [
    "\n",
    "positive=movie_reviews.fileids('pos')\n",
    "negative=movie_reviews.fileids('neg')\n",
    "    \n",
    "features_positive= [(extractfeatures(movie_reviews.words(fileids=[f])),'positive')for f in positive]\n",
    "features_negative= [(extractfeatures(movie_reviews.words(fileids=[f])),'negative')for f in negative]\n",
    "\n",
    "#split to train and test(80/20)\n",
    "threshold=0.8\n",
    "threshold_pos=int(threshold*len(features_positive))\n",
    "threshold_neg=int(threshold*len(features_negative))\n",
    "\n",
    "features_train=features_positive[:threshold_pos]+features_negative[:threshold_neg]\n",
    "features_test=features_positive[threshold_pos:]+features_negative[threshold_neg:]\n",
    "print(\"length of training feature\",len(features_train\n",
    "                                      ))\n",
    "print(\"length of test feature\",len(features_test))\n",
    "\n",
    "\n",
    "#naive baise classifier\n",
    "classify=NaiveBayesClassifier.train(features_train)\n",
    "print(\"accuracy\",nltk.classify.util.accuracy(classify,features_train))\n",
    "\n",
    "\n",
    "\n",
    "input=[\n",
    "    \"This is an amazing movie\",\n",
    "    \"This is a dull movie,not recommended\",\n",
    "    \"Great movie must watch\",\n",
    "    \"So pathetic one\"\n",
    "]\n",
    "\n",
    "\n",
    "print(\"Prediction\")\n",
    "for r in input:\n",
    "    print(\"review\",r)\n",
    "    prob=classify.prob_classify(extractfeatures(r.split()))\n",
    "    senti=prob.max()\n",
    "    print(\"predicted sentiment/n\",senti)\n",
    "    print()"
   ]
  },
  {
   "cell_type": "code",
   "execution_count": null,
   "id": "415749e3",
   "metadata": {},
   "outputs": [],
   "source": []
  }
 ],
 "metadata": {
  "kernelspec": {
   "display_name": "Python 3 (ipykernel)",
   "language": "python",
   "name": "python3"
  },
  "language_info": {
   "codemirror_mode": {
    "name": "ipython",
    "version": 3
   },
   "file_extension": ".py",
   "mimetype": "text/x-python",
   "name": "python",
   "nbconvert_exporter": "python",
   "pygments_lexer": "ipython3",
   "version": "3.9.12"
  }
 },
 "nbformat": 4,
 "nbformat_minor": 5
}
